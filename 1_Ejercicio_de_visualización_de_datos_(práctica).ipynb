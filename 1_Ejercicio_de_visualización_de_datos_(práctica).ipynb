{
  "nbformat": 4,
  "nbformat_minor": 0,
  "metadata": {
    "colab": {
      "provenance": [],
      "authorship_tag": "ABX9TyOsE0wlF+YaIetYZDaevget",
      "include_colab_link": true
    },
    "kernelspec": {
      "name": "python3",
      "display_name": "Python 3"
    },
    "language_info": {
      "name": "python"
    }
  },
  "cells": [
    {
      "cell_type": "markdown",
      "metadata": {
        "id": "view-in-github",
        "colab_type": "text"
      },
      "source": [
        "<a href=\"https://colab.research.google.com/github/matvid/Visualizaci-n_dog_bites/blob/main/1_Ejercicio_de_visualizaci%C3%B3n_de_datos_(pr%C3%A1ctica).ipynb\" target=\"_parent\"><img src=\"https://colab.research.google.com/assets/colab-badge.svg\" alt=\"Open In Colab\"/></a>"
      ]
    },
    {
      "cell_type": "markdown",
      "source": [
        "*   **Carga de datos**"
      ],
      "metadata": {
        "id": "Vv7-O-1R-wkt"
      }
    },
    {
      "cell_type": "code",
      "execution_count": 1,
      "metadata": {
        "colab": {
          "base_uri": "https://localhost:8080/"
        },
        "id": "qHmDRfOy-hyS",
        "outputId": "1eba8816-c25c-49de-c577-e48ff718472d"
      },
      "outputs": [
        {
          "output_type": "stream",
          "name": "stdout",
          "text": [
            "Mounted at /content/drive\n"
          ]
        }
      ],
      "source": [
        "#Montar Drive\n",
        "from google.colab import drive\n",
        "drive.mount (\"/content/drive\")"
      ]
    },
    {
      "cell_type": "code",
      "source": [
        "#Importar librerías\n",
        "import matplotlib.pyplot as plt\n",
        "import numpy as np\n",
        "import pandas as pd\n",
        "import seaborn as sns"
      ],
      "metadata": {
        "id": "dPOejM7J_MDV"
      },
      "execution_count": 2,
      "outputs": []
    },
    {
      "cell_type": "code",
      "source": [
        "#Cargar dataframe\n",
        "filename = (\"/content/drive/MyDrive/Bootcamp/Coding Dojo/Semana 4/Datas/NYC_Dog_Licensing_Dataset.csv\")\n",
        "df = pd.read_csv(filename)"
      ],
      "metadata": {
        "id": "qmz-zV1W_QCA"
      },
      "execution_count": 4,
      "outputs": []
    }
  ]
}